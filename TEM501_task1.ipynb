{
  "nbformat": 4,
  "nbformat_minor": 0,
  "metadata": {
    "colab": {
      "name": "TEM501-task1.ipynb",
      "provenance": [],
      "collapsed_sections": []
    },
    "kernelspec": {
      "name": "python3",
      "display_name": "Python 3"
    },
    "accelerator": "GPU"
  },
  "cells": [
    {
      "cell_type": "code",
      "metadata": {
        "id": "UcmC2HwOUGHe"
      },
      "source": [
        "import numpy as np\n",
        "from keras.utils import to_categorical\n",
        "from sklearn.feature_extraction.text import TfidfVectorizer\n",
        "import os\n",
        "import json\n",
        "import random\n",
        "from keras.models import Sequential\n",
        "from keras import layers\n",
        "from keras.layers import Dense, Dropout, Activation, Flatten\n",
        "import matplotlib.pyplot as plt\n",
        "import seaborn as sn\n",
        "import pandas as pd\n",
        "from keras.regularizers import l2, l1, l1_l2\n",
        "%matplotlib inline"
      ],
      "execution_count": null,
      "outputs": []
    },
    {
      "cell_type": "code",
      "metadata": {
        "id": "Jfz2daGhUZCO",
        "outputId": "4a50c96e-9e99-4fbc-b9db-9e52fb24a2af",
        "colab": {
          "base_uri": "https://localhost:8080/",
          "height": 170
        }
      },
      "source": [
        "!unzip category_preprocess.zip"
      ],
      "execution_count": null,
      "outputs": [
        {
          "output_type": "stream",
          "text": [
            "Archive:  category_preprocess.zip\n",
            "   creating: category_preprocess/\n",
            "  inflating: category_preprocess/nhi.json  \n",
            "  inflating: category_preprocess/liên khoa mắt tai mũi họng răng hàm mặt da liễu.json  \n",
            "  inflating: category_preprocess/ngoại.json  \n",
            "  inflating: category_preprocess/sản.json  \n",
            "  inflating: category_preprocess/lâm sàng cận lâm sàng.json  \n",
            "  inflating: category_preprocess/nội.json  \n",
            "  inflating: category_preprocess/truyền nhiễm.json  \n"
          ],
          "name": "stdout"
        }
      ]
    },
    {
      "cell_type": "code",
      "metadata": {
        "id": "ZiabnMyCUapf"
      },
      "source": [
        "labels = {\n",
        "    'lâm sàng cận lâm sàng': 0,\n",
        "    'liên khoa mắt tai mũi họng răng hàm mặt da liễu': 1,\n",
        "    'ngoại': 2,\n",
        "    'nhi': 3,\n",
        "    'nội': 4,\n",
        "    'sản': 5,\n",
        "    'truyền nhiễm': 6\n",
        "}"
      ],
      "execution_count": null,
      "outputs": []
    },
    {
      "cell_type": "code",
      "metadata": {
        "id": "P4Li7ZxmUdbN"
      },
      "source": [
        "dir_name = 'category_preprocess'"
      ],
      "execution_count": null,
      "outputs": []
    },
    {
      "cell_type": "code",
      "metadata": {
        "id": "BBIVjQiXUfHz"
      },
      "source": [
        "filenames = []\n",
        "for (dirpath, dirnames, filenames1) in os.walk(dir_name):\n",
        "    for fp in filenames1:\n",
        "        filenames.append(f'{dir_name}/{fp}')"
      ],
      "execution_count": null,
      "outputs": []
    },
    {
      "cell_type": "code",
      "metadata": {
        "id": "-1SZg9XgUh5x",
        "outputId": "04ec2ac6-8a18-453d-b872-f6b7e61519c6",
        "colab": {
          "base_uri": "https://localhost:8080/",
          "height": 136
        }
      },
      "source": [
        "filenames"
      ],
      "execution_count": null,
      "outputs": [
        {
          "output_type": "execute_result",
          "data": {
            "text/plain": [
              "['category_preprocess/sản.json',\n",
              " 'category_preprocess/truyền nhiễm.json',\n",
              " 'category_preprocess/lâm sàng cận lâm sàng.json',\n",
              " 'category_preprocess/liên khoa mắt tai mũi họng răng hàm mặt da liễu.json',\n",
              " 'category_preprocess/nhi.json',\n",
              " 'category_preprocess/ngoại.json',\n",
              " 'category_preprocess/nội.json']"
            ]
          },
          "metadata": {
            "tags": []
          },
          "execution_count": 17
        }
      ]
    },
    {
      "cell_type": "code",
      "metadata": {
        "id": "RAjYtvqNU01g",
        "outputId": "4442cd61-8ac4-4d35-eedf-8c9cb6abd57e",
        "colab": {
          "base_uri": "https://localhost:8080/",
          "height": 136
        }
      },
      "source": [
        "for fpath in filenames:\n",
        "    with open(fpath, 'r') as fp:\n",
        "        data = json.load(fp)\n",
        "\n",
        "        print(fpath, len(data))"
      ],
      "execution_count": null,
      "outputs": [
        {
          "output_type": "stream",
          "text": [
            "category_preprocess/sản.json 7769\n",
            "category_preprocess/truyền nhiễm.json 2118\n",
            "category_preprocess/lâm sàng cận lâm sàng.json 1976\n",
            "category_preprocess/liên khoa mắt tai mũi họng răng hàm mặt da liễu.json 2121\n",
            "category_preprocess/nhi.json 1676\n",
            "category_preprocess/ngoại.json 1839\n",
            "category_preprocess/nội.json 3277\n"
          ],
          "name": "stdout"
        }
      ]
    },
    {
      "cell_type": "code",
      "metadata": {
        "id": "aVVJbeDzUl4r"
      },
      "source": [
        "TARGET_TRAIN_LEN = 3000\n",
        "TRAIN_MIN_MAX = {\n",
        "    0: [1800, 1976],\n",
        "    1: [2000, 2121],\n",
        "    2: [1700, 1839],\n",
        "    3: [1600, 1676],\n",
        "    4: [3000, 3277],\n",
        "    5: [3000, 4277],\n",
        "    6: [2000, 2118]\n",
        "}"
      ],
      "execution_count": null,
      "outputs": []
    },
    {
      "cell_type": "code",
      "metadata": {
        "id": "BeYaC96uU80B",
        "outputId": "261f4fd5-8632-475d-b330-1b36f2a57d0e",
        "colab": {
          "base_uri": "https://localhost:8080/",
          "height": 136
        }
      },
      "source": [
        "train_text = []\n",
        "train_label = []\n",
        "test_text = []\n",
        "test_label = []\n",
        "\n",
        "for fpath in filenames:\n",
        "    label = labels[fpath.split('/')[-1].split('.')[0]]\n",
        "    print(fpath, label)\n",
        "\n",
        "    with open(fpath, 'r') as fp:\n",
        "        data = json.load(fp)\n",
        "        random.shuffle(data)\n",
        "\n",
        "        count = 0\n",
        "        for obj in data:\n",
        "            count += 1\n",
        "            # if count > TRAIN_MIN_MAX[label][1]:\n",
        "            #     break\n",
        "            if count <= TRAIN_MIN_MAX[label][0]:\n",
        "                train_label.append(label)\n",
        "                # ghép title và question \n",
        "                train_text.append(obj['title'] + ' ' + obj['question'])\n",
        "            else:\n",
        "                test_label.append(label)\n",
        "                test_text.append(obj['title'] + ' ' + obj['question'])\n",
        "            if (label != 5 or label != 4) and count <= TARGET_TRAIN_LEN - TRAIN_MIN_MAX[label][0]:\n",
        "                train_label.append(label)\n",
        "                obj1 = data[random.randrange(0, TRAIN_MIN_MAX[label][0])]\n",
        "                obj2 = data[random.randrange(0, TRAIN_MIN_MAX[label][0])]\n",
        "                train_text.append(obj2['title'] + ' ' + obj2['question'] +\n",
        "                                  ' ' + obj1['title'] + ' ' + obj1['question'])"
      ],
      "execution_count": null,
      "outputs": [
        {
          "output_type": "stream",
          "text": [
            "category_preprocess/sản.json 5\n",
            "category_preprocess/truyền nhiễm.json 6\n",
            "category_preprocess/lâm sàng cận lâm sàng.json 0\n",
            "category_preprocess/liên khoa mắt tai mũi họng răng hàm mặt da liễu.json 1\n",
            "category_preprocess/nhi.json 3\n",
            "category_preprocess/ngoại.json 2\n",
            "category_preprocess/nội.json 4\n"
          ],
          "name": "stdout"
        }
      ]
    },
    {
      "cell_type": "code",
      "metadata": {
        "id": "RdqR7KY6xzDY",
        "outputId": "4299543d-8ab0-4251-d44b-814358ce96af",
        "colab": {
          "base_uri": "https://localhost:8080/",
          "height": 54
        }
      },
      "source": [
        "print(train_text[0], train_label[0])"
      ],
      "execution_count": null,
      "outputs": [
        {
          "output_type": "stream",
          "text": [
            "mang thai để_ý tháng nay kinh_nguyệt đều đều vào ngày dương_lịch hàng tháng tính_từ ngày bắt_đầu kinh_nguyệt đến ngày tứ thử que rụng trứng chỉ dấu_hiệu báo chưa rụng sao 5\n"
          ],
          "name": "stdout"
        }
      ]
    },
    {
      "cell_type": "code",
      "metadata": {
        "id": "QCoO7MMCVaSN",
        "outputId": "4e9701bc-9ddb-4b1e-8773-d6c1c947554d",
        "colab": {
          "base_uri": "https://localhost:8080/",
          "height": 88
        }
      },
      "source": [
        "print(labels)\n",
        "print(len(train_text), len(train_label), max(train_label))\n",
        "print(len(test_text), len(test_label), max(test_label))"
      ],
      "execution_count": null,
      "outputs": [
        {
          "output_type": "stream",
          "text": [
            "{'lâm sàng cận lâm sàng': 0, 'liên khoa mắt tai mũi họng răng hàm mặt da liễu': 1, 'ngoại': 2, 'nhi': 3, 'nội': 4, 'sản': 5, 'truyền nhiễm': 6}\n",
            "21000 21000 6\n",
            "5676 5676 6\n"
          ],
          "name": "stdout"
        }
      ]
    },
    {
      "cell_type": "code",
      "metadata": {
        "id": "DvRbWgpeVeea"
      },
      "source": [
        "with open('text_vectorize.json', 'w', encoding='utf8') as fp:\n",
        "  json_object = json.dumps((train_text), indent = 4, ensure_ascii=False)\n",
        "  fp.write(json_object)"
      ],
      "execution_count": null,
      "outputs": []
    },
    {
      "cell_type": "code",
      "metadata": {
        "id": "6Dp6OuI4V2DK",
        "outputId": "77496831-09a9-45c4-eb17-d6ee20c390ec",
        "colab": {
          "base_uri": "https://localhost:8080/",
          "height": 68
        }
      },
      "source": [
        "word_vectorizer = TfidfVectorizer(max_features=20000)\n",
        "word_vectorizer.fit(tfidf_texts)\n",
        "\n",
        "x_train = word_vectorizer.transform(train_text)\n",
        "x_test = word_vectorizer.transform(test_text)\n",
        "\n",
        "print(type(x_train)) # <class 'scipy.sparse.csr.csr_matrix'>\n",
        "x_train = x_train.toarray()\n",
        "x_test = x_test.toarray()\n",
        "print(type(x_train)) # <class 'numpy.ndarray'>\n",
        "print(x_train.shape, x_test.shape)"
      ],
      "execution_count": null,
      "outputs": [
        {
          "output_type": "stream",
          "text": [
            "<class 'scipy.sparse.csr.csr_matrix'>\n",
            "<class 'numpy.ndarray'>\n",
            "(21000, 16331) (5676, 16331)\n"
          ],
          "name": "stdout"
        }
      ]
    },
    {
      "cell_type": "code",
      "metadata": {
        "id": "egBjF61FWLJ4",
        "outputId": "2b9d0dd2-26e3-4b38-dde9-eecff9f24309",
        "colab": {
          "base_uri": "https://localhost:8080/",
          "height": 34
        }
      },
      "source": [
        "y_train = to_categorical(train_label)\n",
        "y_test = to_categorical(test_label)\n",
        "print(y_train.shape, y_test.shape)"
      ],
      "execution_count": null,
      "outputs": [
        {
          "output_type": "stream",
          "text": [
            "(21000, 7) (5676, 7)\n"
          ],
          "name": "stdout"
        }
      ]
    },
    {
      "cell_type": "code",
      "metadata": {
        "id": "pnYLhaSMutxN",
        "outputId": "8d8f3a6f-eaf9-4988-c2d9-08236eb47e51",
        "colab": {
          "base_uri": "https://localhost:8080/",
          "height": 102
        }
      },
      "source": [
        "print(x_train.shape, x_test.shape)\n",
        "print(y_train.shape, y_test.shape)\n",
        "print(np.unique(train_label, return_counts=True))\n",
        "np.unique(test_label, return_counts=True)"
      ],
      "execution_count": null,
      "outputs": [
        {
          "output_type": "stream",
          "text": [
            "(21000, 16331) (5676, 16331)\n",
            "(21000, 7) (5676, 7)\n",
            "(array([0, 1, 2, 3, 4, 5, 6]), array([3000, 3000, 3000, 3000, 3000, 3000, 3000]))\n"
          ],
          "name": "stdout"
        },
        {
          "output_type": "execute_result",
          "data": {
            "text/plain": [
              "(array([0, 1, 2, 3, 4, 5, 6]),\n",
              " array([ 176,  121,  139,   76,  277, 4769,  118]))"
            ]
          },
          "metadata": {
            "tags": []
          },
          "execution_count": 37
        }
      ]
    },
    {
      "cell_type": "code",
      "metadata": {
        "id": "vMglNs88hCmN"
      },
      "source": [
        "def build_model_regularizer(feature_num, label_num):\n",
        "    print(feature_num, label_num)\n",
        "    model = Sequential()\n",
        "    # Input - Layer\n",
        "    model.add(layers.Input(feature_num,))\n",
        "    model.add(layers.Dense(1024, activation = \"relu\",kernel_regularizer=l2(0.0001)))\n",
        "    # Hidden - Layers\n",
        "    model.add(layers.Dropout(0.8, noise_shape=None, seed=None))\n",
        "    # model.add(layers.Dense(512, activation = \"relu\", kernel_regularizer=l2(0.005), bias_regularizer=l2(0.005)))\n",
        "    # model.add(layers.Dropout(0.8, noise_shape=None, seed=None))\n",
        "    model.add(layers.Dense(256, activation = \"relu\",\n",
        "                           kernel_regularizer=l2(0.0025)))\n",
        "    model.add(layers.Dropout(0.6, noise_shape=None, seed=None))\n",
        "    model.add(layers.Dense(32, activation = \"relu\",\n",
        "                           kernel_regularizer=l2(0.0025)))\n",
        "    model.add(layers.Dropout(0.4, noise_shape=None, seed=None))\n",
        "    model.add(layers.Dense(16, activation = \"relu\"))\n",
        "    # Output- Layer\n",
        "    model.add(Dense(label_num, activation='softmax'))\n",
        "    model.compile(optimizer = \"adam\", loss = \"categorical_crossentropy\",metrics = [\"accuracy\"])\n",
        "    return model"
      ],
      "execution_count": null,
      "outputs": []
    },
    {
      "cell_type": "code",
      "metadata": {
        "id": "JjWuEj_aXIja",
        "outputId": "881f5abf-f1ad-4adf-f9ba-29d4101da559",
        "colab": {
          "base_uri": "https://localhost:8080/",
          "height": 425
        }
      },
      "source": [
        "mymodel = build_model_regularizer(x_train.shape[1], y_train.shape[1])\n",
        "mymodel.summary()"
      ],
      "execution_count": null,
      "outputs": [
        {
          "output_type": "stream",
          "text": [
            "Model: \"sequential\"\n",
            "_________________________________________________________________\n",
            "Layer (type)                 Output Shape              Param #   \n",
            "=================================================================\n",
            "dense (Dense)                (None, 1024)              15950848  \n",
            "_________________________________________________________________\n",
            "dropout (Dropout)            (None, 1024)              0         \n",
            "_________________________________________________________________\n",
            "dense_1 (Dense)              (None, 512)               524800    \n",
            "_________________________________________________________________\n",
            "dropout_1 (Dropout)          (None, 512)               0         \n",
            "_________________________________________________________________\n",
            "dense_2 (Dense)              (None, 32)                16416     \n",
            "_________________________________________________________________\n",
            "dropout_2 (Dropout)          (None, 32)                0         \n",
            "_________________________________________________________________\n",
            "dense_3 (Dense)              (None, 16)                528       \n",
            "_________________________________________________________________\n",
            "dense_4 (Dense)              (None, 7)                 119       \n",
            "=================================================================\n",
            "Total params: 16,492,711\n",
            "Trainable params: 16,492,711\n",
            "Non-trainable params: 0\n",
            "_________________________________________________________________\n"
          ],
          "name": "stdout"
        }
      ]
    },
    {
      "cell_type": "code",
      "metadata": {
        "id": "OaSeBQz6BukN"
      },
      "source": [
        "history = mymodel.fit(x_train, y_train, validation_data=(x_test, y_test), epochs=40, batch_size=32)"
      ],
      "execution_count": null,
      "outputs": []
    },
    {
      "cell_type": "code",
      "metadata": {
        "id": "CHu4Q2rg4695",
        "outputId": "1320a201-a215-43f6-8d0b-76fc8e304ca5",
        "colab": {
          "base_uri": "https://localhost:8080/",
          "height": 54
        }
      },
      "source": [
        "print(history.history)"
      ],
      "execution_count": null,
      "outputs": [
        {
          "output_type": "stream",
          "text": [
            "{'loss': [1.7254222631454468, 1.4257522821426392, 1.3531931638717651, 1.3123018741607666, 1.285187005996704, 1.2514296770095825, 1.2383445501327515, 1.2265673875808716, 1.200355887413025, 1.191537618637085, 1.1764121055603027, 1.1766852140426636, 1.162326693534851, 1.1480756998062134, 1.144690752029419, 1.1421871185302734, 1.1246676445007324, 1.1316888332366943, 1.1183007955551147, 1.124900460243225, 1.1189393997192383, 1.1220908164978027, 1.119411826133728, 1.1201292276382446, 1.106142520904541, 1.1122881174087524, 1.1004084348678589, 1.100053071975708, 1.1035252809524536, 1.0976183414459229, 1.1008559465408325, 1.1091275215148926, 1.0991895198822021, 1.1018792390823364, 1.093274474143982, 1.0909608602523804, 1.0872482061386108, 1.0839135646820068, 1.0886529684066772, 1.0812745094299316], 'accuracy': [0.44247618317604065, 0.6538095474243164, 0.7065714001655579, 0.7422381043434143, 0.7576666474342346, 0.7770476341247559, 0.7876190543174744, 0.7971428632736206, 0.8036190271377563, 0.8106666803359985, 0.8192380666732788, 0.8166666626930237, 0.8234285712242126, 0.8261904716491699, 0.8276666402816772, 0.8326666951179504, 0.833476185798645, 0.8302381038665771, 0.8343333601951599, 0.8341428637504578, 0.8332856893539429, 0.8304761648178101, 0.8370952606201172, 0.8346666693687439, 0.8394285440444946, 0.8365238308906555, 0.8385714292526245, 0.8383809328079224, 0.8365238308906555, 0.838952362537384, 0.8380952477455139, 0.8357142806053162, 0.8376666903495789, 0.8362857103347778, 0.8381428718566895, 0.8393809795379639, 0.8383809328079224, 0.8421905040740967, 0.8379047513008118, 0.8406190276145935], 'val_loss': [1.3122375011444092, 1.3393974304199219, 1.4139982461929321, 1.3614330291748047, 1.3675994873046875, 1.4455606937408447, 1.4004515409469604, 1.4186615943908691, 1.4167428016662598, 1.457945466041565, 1.4719083309173584, 1.5187649726867676, 1.4160338640213013, 1.4118047952651978, 1.4630345106124878, 1.4518978595733643, 1.5503662824630737, 1.5232610702514648, 1.4883837699890137, 1.4846229553222656, 1.4818121194839478, 1.4848889112472534, 1.4228335618972778, 1.5285323858261108, 1.4109421968460083, 1.4348065853118896, 1.5298579931259155, 1.4455809593200684, 1.4628006219863892, 1.5096498727798462, 1.5058462619781494, 1.4690860509872437, 1.47719407081604, 1.4926782846450806, 1.5088013410568237, 1.4728394746780396, 1.479590654373169, 1.4641737937927246, 1.4541032314300537, 1.5048916339874268], 'val_accuracy': [0.6895604133605957, 0.7275640964508057, 0.7252747416496277, 0.7559523582458496, 0.7591575384140015, 0.7390109896659851, 0.7628205418586731, 0.7605311274528503, 0.7564102411270142, 0.7440476417541504, 0.7449633479118347, 0.7293956279754639, 0.7541208863258362, 0.7651098966598511, 0.7518315315246582, 0.75, 0.7257326245307922, 0.7385531067848206, 0.7440476417541504, 0.7504578828811646, 0.7417582273483276, 0.7440476417541504, 0.7651098966598511, 0.735805869102478, 0.7609890103340149, 0.7513736486434937, 0.7193223237991333, 0.7554945349693298, 0.7431318759918213, 0.7316849827766418, 0.7362637519836426, 0.7422161102294922, 0.7426739931106567, 0.7339743375778198, 0.726190447807312, 0.7390109896659851, 0.7367216348648071, 0.7408424615859985, 0.7422161102294922, 0.735805869102478]}\n"
          ],
          "name": "stdout"
        }
      ]
    },
    {
      "cell_type": "code",
      "metadata": {
        "id": "magrKUpT4_75"
      },
      "source": [
        "mymodel.save('model.h5')"
      ],
      "execution_count": null,
      "outputs": []
    },
    {
      "cell_type": "code",
      "metadata": {
        "id": "ADQoF3nNojq1"
      },
      "source": [
        "acc = history.history['accuracy']\n",
        "loss = history.history['loss']\n",
        "epochs = range(1, len(acc) + 1)"
      ],
      "execution_count": null,
      "outputs": []
    },
    {
      "cell_type": "code",
      "metadata": {
        "id": "rmP8Vgl0ol11",
        "outputId": "cca95389-db04-4cba-ecfa-72b37914787f",
        "colab": {
          "base_uri": "https://localhost:8080/",
          "height": 281
        }
      },
      "source": [
        "plt.plot(epochs, acc, 'b', label='Training acc')\n",
        "plt.title('Training accuracy')\n",
        "plt.savefig('training_acc.png')"
      ],
      "execution_count": null,
      "outputs": [
        {
          "output_type": "display_data",
          "data": {
            "image/png": "[encoded data removed]",
            "text/plain": [
              "<Figure size 432x288 with 1 Axes>"
            ]
          },
          "metadata": {
            "tags": [],
            "needs_background": "light"
          }
        }
      ]
    },
    {
      "cell_type": "code",
      "metadata": {
        "id": "AYxUyty4oy5q",
        "outputId": "c18cbe1f-8ab5-432c-d623-b9328f90eeb1",
        "colab": {
          "base_uri": "https://localhost:8080/",
          "height": 281
        }
      },
      "source": [
        "plt.plot(epochs, loss, 'b', label='Training loss')\n",
        "plt.title('Training loss')\n",
        "plt.savefig('training_loss.png')"
      ],
      "execution_count": null,
      "outputs": [
        {
          "output_type": "display_data",
          "data": {
            "image/png": "[encoded data removed]",
            "text/plain": [
              "<Figure size 432x288 with 1 Axes>"
            ]
          },
          "metadata": {
            "tags": [],
            "needs_background": "light"
          }
        }
      ]
    },
    {
      "cell_type": "code",
      "metadata": {
        "id": "-UkjISkaotOM"
      },
      "source": [
        "from keras.models import load_model"
      ],
      "execution_count": null,
      "outputs": []
    },
    {
      "cell_type": "code",
      "metadata": {
        "id": "UihQcDgzxET1"
      },
      "source": [
        "mymodel = load_model('./model.h5')"
      ],
      "execution_count": null,
      "outputs": []
    },
    {
      "cell_type": "code",
      "metadata": {
        "id": "64b6NTUZxJvp"
      },
      "source": [
        "from sklearn.metrics import classification_report, f1_score, precision_score, recall_score, confusion_matrix"
      ],
      "execution_count": null,
      "outputs": []
    },
    {
      "cell_type": "code",
      "metadata": {
        "id": "-FuGRy55xNQp",
        "outputId": "fec833f8-d680-4aed-f43b-1575336c911c",
        "colab": {
          "base_uri": "https://localhost:8080/",
          "height": 289
        }
      },
      "source": [
        "# Evaluate tren tap test\n",
        "_, validate_acc = mymodel.evaluate(x_test, y_test, verbose=0)\n",
        "y_pred = mymodel.predict(x_test, batch_size=64, verbose=1)\n",
        "y_pred_bool = np.argmax(y_pred, axis=1)\n",
        "y_true = np.argmax(y_test, axis=1)\n",
        "\n",
        "print('Accuracy trên tập test: %s%%' % str(validate_acc * 100) )\n",
        "\n",
        "print(classification_report(y_true, y_pred_bool))"
      ],
      "execution_count": null,
      "outputs": [
        {
          "output_type": "stream",
          "text": [
            "89/89 [==============================] - 0s 3ms/step\n",
            "Accuracy trên tập test: 86.80408596992493%\n",
            "              precision    recall  f1-score   support\n",
            "\n",
            "           0       0.58      0.90      0.70       176\n",
            "           1       0.82      0.92      0.86       121\n",
            "           2       0.65      0.81      0.72       139\n",
            "           3       0.70      0.97      0.82        76\n",
            "           4       0.38      0.85      0.53       277\n",
            "           5       0.99      0.86      0.92      4769\n",
            "           6       0.52      0.94      0.67       118\n",
            "\n",
            "    accuracy                           0.87      5676\n",
            "   macro avg       0.66      0.89      0.75      5676\n",
            "weighted avg       0.92      0.87      0.89      5676\n",
            "\n"
          ],
          "name": "stdout"
        }
      ]
    },
    {
      "cell_type": "code",
      "metadata": {
        "id": "8BcRkuqZxTeF"
      },
      "source": [
        "cm = confusion_matrix(y_true, y_pred_bool)"
      ],
      "execution_count": null,
      "outputs": []
    },
    {
      "cell_type": "code",
      "metadata": {
        "id": "2pQUWI5Fy7Uu",
        "outputId": "e52357cf-0bf8-4d83-e847-f663ff40b816",
        "colab": {
          "base_uri": "https://localhost:8080/",
          "height": 458
        }
      },
      "source": [
        "# df_cm = pd.DataFrame(cm, range(7), range(7))\n",
        "plt.figure(figsize=(10,7))\n",
        "sn.set(font_scale=1.4, font='bold') # for label size\n",
        "sn.heatmap(cm/np.sum(cm), annot=True, fmt='.2%', cmap='Blues', annot_kws={\"size\": 10}) # font size\n",
        "plt.ylabel('True')\n",
        "plt.xlabel('Prediction')\n",
        "# plt.show()\n",
        "plt.savefig('cm.png')"
      ],
      "execution_count": null,
      "outputs": [
        {
          "output_type": "display_data",
          "data": {
            "image/png": "[encoded data removed]",
            "text/plain": [
              "<Figure size 720x504 with 2 Axes>"
            ]
          },
          "metadata": {
            "tags": []
          }
        }
      ]
    },
    {
      "cell_type": "code",
      "metadata": {
        "id": "zH4UzZsN0BEP"
      },
      "source": [
        ""
      ],
      "execution_count": null,
      "outputs": []
    }
  ]
}