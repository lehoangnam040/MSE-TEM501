{
  "nbformat": 4,
  "nbformat_minor": 0,
  "metadata": {
    "colab": {
      "name": "TEM501-task1.ipynb",
      "provenance": [],
      "collapsed_sections": []
    },
    "kernelspec": {
      "name": "python3",
      "display_name": "Python 3"
    },
    "accelerator": "GPU"
  },
  "cells": [
    {
      "cell_type": "code",
      "metadata": {
        "id": "UcmC2HwOUGHe",
        "colab_type": "code",
        "colab": {}
      },
      "source": [
        "import numpy as np\n",
        "from keras.utils import to_categorical\n",
        "from sklearn.feature_extraction.text import TfidfVectorizer\n",
        "import os\n",
        "import json\n",
        "import random\n",
        "from keras.models import Sequential\n",
        "from keras import layers\n",
        "from keras.layers import Dense, Dropout, Activation, Flatten\n",
        "import matplotlib.pyplot as plt"
      ],
      "execution_count": null,
      "outputs": []
    },
    {
      "cell_type": "code",
      "metadata": {
        "id": "Jfz2daGhUZCO",
        "colab_type": "code",
        "colab": {
          "base_uri": "https://localhost:8080/",
          "height": 170
        },
        "outputId": "a39339d4-ce40-4cb8-b468-a8704c344079"
      },
      "source": [
        "!unzip category_preprocess.zip"
      ],
      "execution_count": null,
      "outputs": [
        {
          "output_type": "stream",
          "text": [
            "Archive:  category_preprocess.zip\n",
            "   creating: category_preprocess/\n",
            "  inflating: category_preprocess/nhi.json  \n",
            "  inflating: category_preprocess/liên khoa mắt tai mũi họng răng hàm mặt da liễu.json  \n",
            "  inflating: category_preprocess/ngoại.json  \n",
            "  inflating: category_preprocess/sản.json  \n",
            "  inflating: category_preprocess/lâm sàng cận lâm sàng.json  \n",
            "  inflating: category_preprocess/nội.json  \n",
            "  inflating: category_preprocess/truyền nhiễm.json  \n"
          ],
          "name": "stdout"
        }
      ]
    },
    {
      "cell_type": "code",
      "metadata": {
        "id": "ZiabnMyCUapf",
        "colab_type": "code",
        "colab": {}
      },
      "source": [
        "labels = {\n",
        "    'lâm sàng cận lâm sàng': 0,\n",
        "    'liên khoa mắt tai mũi họng răng hàm mặt da liễu': 1,\n",
        "    'ngoại': 2,\n",
        "    'nhi': 3,\n",
        "    'nội': 4,\n",
        "    'sản': 5,\n",
        "    'truyền nhiễm': 6\n",
        "}"
      ],
      "execution_count": null,
      "outputs": []
    },
    {
      "cell_type": "code",
      "metadata": {
        "id": "P4Li7ZxmUdbN",
        "colab_type": "code",
        "colab": {}
      },
      "source": [
        "dir_name = 'category_preprocess'"
      ],
      "execution_count": null,
      "outputs": []
    },
    {
      "cell_type": "code",
      "metadata": {
        "id": "BBIVjQiXUfHz",
        "colab_type": "code",
        "colab": {}
      },
      "source": [
        "filenames = []\n",
        "for (dirpath, dirnames, filenames1) in os.walk(dir_name):\n",
        "    for fp in filenames1:\n",
        "        filenames.append(f'{dir_name}/{fp}')"
      ],
      "execution_count": null,
      "outputs": []
    },
    {
      "cell_type": "code",
      "metadata": {
        "id": "-1SZg9XgUh5x",
        "colab_type": "code",
        "colab": {
          "base_uri": "https://localhost:8080/",
          "height": 136
        },
        "outputId": "7a5f57df-3be8-4be0-8810-5fe706d4f67b"
      },
      "source": [
        "filenames"
      ],
      "execution_count": null,
      "outputs": [
        {
          "output_type": "execute_result",
          "data": {
            "text/plain": [
              "['category_preprocess/truyền nhiễm.json',\n",
              " 'category_preprocess/nhi.json',\n",
              " 'category_preprocess/sản.json',\n",
              " 'category_preprocess/ngoại.json',\n",
              " 'category_preprocess/lâm sàng cận lâm sàng.json',\n",
              " 'category_preprocess/liên khoa mắt tai mũi họng răng hàm mặt da liễu.json',\n",
              " 'category_preprocess/nội.json']"
            ]
          },
          "metadata": {
            "tags": []
          },
          "execution_count": 5
        }
      ]
    },
    {
      "cell_type": "code",
      "metadata": {
        "id": "RAjYtvqNU01g",
        "colab_type": "code",
        "colab": {
          "base_uri": "https://localhost:8080/",
          "height": 136
        },
        "outputId": "2471b229-4d77-4786-80c9-042f7965d746"
      },
      "source": [
        "for fpath in filenames:\n",
        "    with open(fpath, 'r') as fp:\n",
        "        data = json.load(fp)\n",
        "\n",
        "        print(fpath, len(data))"
      ],
      "execution_count": null,
      "outputs": [
        {
          "output_type": "stream",
          "text": [
            "category_preprocess/truyền nhiễm.json 2118\n",
            "category_preprocess/nhi.json 1676\n",
            "category_preprocess/sản.json 7769\n",
            "category_preprocess/ngoại.json 1839\n",
            "category_preprocess/lâm sàng cận lâm sàng.json 1976\n",
            "category_preprocess/liên khoa mắt tai mũi họng răng hàm mặt da liễu.json 2121\n",
            "category_preprocess/nội.json 3277\n"
          ],
          "name": "stdout"
        }
      ]
    },
    {
      "cell_type": "code",
      "metadata": {
        "id": "aVVJbeDzUl4r",
        "colab_type": "code",
        "colab": {}
      },
      "source": [
        "TARGET_TRAIN_LEN = 3000\n",
        "TRAIN_MIN_MAX = {\n",
        "    0: [1800, 1976],\n",
        "    1: [2000, 2121],\n",
        "    2: [1700, 1839],\n",
        "    3: [1600, 1676],\n",
        "    4: [3000, 3277],\n",
        "    5: [3000, 4277],\n",
        "    6: [2000, 2118]\n",
        "}"
      ],
      "execution_count": null,
      "outputs": []
    },
    {
      "cell_type": "code",
      "metadata": {
        "id": "BeYaC96uU80B",
        "colab_type": "code",
        "colab": {
          "base_uri": "https://localhost:8080/",
          "height": 136
        },
        "outputId": "ba39bcc4-2acf-4b68-9619-58e3be0e9de4"
      },
      "source": [
        "train_text = []\n",
        "train_label = []\n",
        "test_text = []\n",
        "test_label = []\n",
        "\n",
        "for fpath in filenames:\n",
        "    label = labels[fpath.split('/')[-1].split('.')[0]]\n",
        "    print(fpath, label)\n",
        "\n",
        "    with open(fpath, 'r') as fp:\n",
        "        data = json.load(fp)\n",
        "        random.shuffle(data)\n",
        "\n",
        "        count = 0\n",
        "        for obj in data:\n",
        "            count += 1\n",
        "            if count > TRAIN_MIN_MAX[label][1]:\n",
        "                break\n",
        "            if count <= TRAIN_MIN_MAX[label][0]:\n",
        "                train_label.append(label)\n",
        "                # ghép title và question \n",
        "                train_text.append(obj['title'] + ' ' + obj['question'])\n",
        "            else:\n",
        "                test_label.append(label)\n",
        "                test_text.append(obj['title'] + ' ' + obj['question'])\n",
        "            if (label != 5 or label != 4) and count <= TARGET_TRAIN_LEN - TRAIN_MIN_MAX[label][0]:\n",
        "                train_label.append(label)\n",
        "                obj1 = data[random.randrange(0, TRAIN_MIN_MAX[label][0])]\n",
        "                obj2 = data[random.randrange(0, TRAIN_MIN_MAX[label][0])]\n",
        "                train_text.append(obj2['title'] + ' ' + obj2['question'] +\n",
        "                                  ' ' + obj1['title'] + ' ' + obj1['question'])"
      ],
      "execution_count": null,
      "outputs": [
        {
          "output_type": "stream",
          "text": [
            "category_preprocess/truyền nhiễm.json 6\n",
            "category_preprocess/nhi.json 3\n",
            "category_preprocess/sản.json 5\n",
            "category_preprocess/ngoại.json 2\n",
            "category_preprocess/lâm sàng cận lâm sàng.json 0\n",
            "category_preprocess/liên khoa mắt tai mũi họng răng hàm mặt da liễu.json 1\n",
            "category_preprocess/nội.json 4\n"
          ],
          "name": "stdout"
        }
      ]
    },
    {
      "cell_type": "code",
      "metadata": {
        "id": "RdqR7KY6xzDY",
        "colab_type": "code",
        "colab": {
          "base_uri": "https://localhost:8080/",
          "height": 34
        },
        "outputId": "b8e4fc3f-4825-4562-b1b3-940e0cbe8ac6"
      },
      "source": [
        "print(train_text[0], train_label[0])"
      ],
      "execution_count": null,
      "outputs": [
        {
          "output_type": "stream",
          "text": [
            "virus hp trong dạ_dày xét_nghiệm máu phát_hiện vỉut hp trong da_day 6\n"
          ],
          "name": "stdout"
        }
      ]
    },
    {
      "cell_type": "code",
      "metadata": {
        "id": "QCoO7MMCVaSN",
        "colab_type": "code",
        "colab": {
          "base_uri": "https://localhost:8080/",
          "height": 88
        },
        "outputId": "313c8201-37db-4f30-e270-9dbb20592d7d"
      },
      "source": [
        "print(labels)\n",
        "print(len(train_text), len(train_label), max(train_label))\n",
        "print(len(test_text), len(test_label), max(test_label))"
      ],
      "execution_count": null,
      "outputs": [
        {
          "output_type": "stream",
          "text": [
            "{'lâm sàng cận lâm sàng': 0, 'liên khoa mắt tai mũi họng răng hàm mặt da liễu': 1, 'ngoại': 2, 'nhi': 3, 'nội': 4, 'sản': 5, 'truyền nhiễm': 6}\n",
            "21000 21000 6\n",
            "2184 2184 6\n"
          ],
          "name": "stdout"
        }
      ]
    },
    {
      "cell_type": "code",
      "metadata": {
        "id": "DvRbWgpeVeea",
        "colab_type": "code",
        "colab": {}
      },
      "source": [
        "with open('text_vectorize.json', 'w', encoding='utf8') as fp:\n",
        "  json_object = json.dumps((train_text+test_text), indent = 4, ensure_ascii=False)\n",
        "  fp.write(json_object)"
      ],
      "execution_count": null,
      "outputs": []
    },
    {
      "cell_type": "code",
      "metadata": {
        "id": "6Dp6OuI4V2DK",
        "colab_type": "code",
        "colab": {
          "base_uri": "https://localhost:8080/",
          "height": 68
        },
        "outputId": "82a7744b-40bb-42a4-97b3-883d9cfbb360"
      },
      "source": [
        "word_vectorizer = TfidfVectorizer(max_features=20000)\n",
        "word_vectorizer.fit(train_text+ test_text)\n",
        "\n",
        "x_train = word_vectorizer.transform(train_text)\n",
        "x_test = word_vectorizer.transform(test_text)\n",
        "\n",
        "print(type(x_train)) # <class 'scipy.sparse.csr.csr_matrix'>\n",
        "x_train = x_train.toarray()\n",
        "x_test = x_test.toarray()\n",
        "print(type(x_train)) # <class 'numpy.ndarray'>\n",
        "print(x_train.shape, x_test.shape)"
      ],
      "execution_count": null,
      "outputs": [
        {
          "output_type": "stream",
          "text": [
            "<class 'scipy.sparse.csr.csr_matrix'>\n",
            "<class 'numpy.ndarray'>\n",
            "(21000, 16331) (2184, 16331)\n"
          ],
          "name": "stdout"
        }
      ]
    },
    {
      "cell_type": "code",
      "metadata": {
        "id": "egBjF61FWLJ4",
        "colab_type": "code",
        "colab": {
          "base_uri": "https://localhost:8080/",
          "height": 34
        },
        "outputId": "92c964a0-f596-4fd3-934d-1ac07069b898"
      },
      "source": [
        "y_train = to_categorical(train_label)\n",
        "y_test = to_categorical(test_label)\n",
        "print(y_train.shape, y_test.shape)"
      ],
      "execution_count": null,
      "outputs": [
        {
          "output_type": "stream",
          "text": [
            "(21000, 7) (2184, 7)\n"
          ],
          "name": "stdout"
        }
      ]
    },
    {
      "cell_type": "code",
      "metadata": {
        "id": "ZpQcc2V9W0Zg",
        "colab_type": "code",
        "colab": {}
      },
      "source": [
        "from keras.regularizers import l2, l1, l1_l2"
      ],
      "execution_count": null,
      "outputs": []
    },
    {
      "cell_type": "code",
      "metadata": {
        "id": "Bsb_fD2CWNnn",
        "colab_type": "code",
        "colab": {}
      },
      "source": [
        "def build_model(feature_num, label_num):\n",
        "    model = Sequential()\n",
        "    # Input - Layer\n",
        "    model.add(layers.Dense(1024, activation = \"relu\", input_shape=(feature_num,)))\n",
        "    # Hidden - Layers\n",
        "    model.add(layers.Dropout(0.95, noise_shape=None, seed=None))\n",
        "    #model.add(layers.Dense(512, activation = \"relu\"))\n",
        "    #model.add(layers.Dropout(0.8, noise_shape=None, seed=None))\n",
        "    model.add(layers.Dense(512, activation = \"relu\",))\n",
        "    model.add(layers.Dropout(0.9, noise_shape=None, seed=None))\n",
        "    model.add(layers.Dense(32, activation = \"relu\"))\n",
        "    model.add(layers.Dropout(0.4, noise_shape=None, seed=None))\n",
        "    model.add(layers.Dense(16, activation = \"relu\"))\n",
        "    # Output- Layer\n",
        "    model.add(Dense(label_num, activation='softmax'))\n",
        "    model.compile(optimizer = \"adam\", loss = \"categorical_crossentropy\",metrics = [\"accuracy\"])\n",
        "    return model"
      ],
      "execution_count": null,
      "outputs": []
    },
    {
      "cell_type": "code",
      "metadata": {
        "id": "JjWuEj_aXIja",
        "colab_type": "code",
        "colab": {
          "base_uri": "https://localhost:8080/",
          "height": 425
        },
        "outputId": "881f5abf-f1ad-4adf-f9ba-29d4101da559"
      },
      "source": [
        "mymodel = build_model(x_train.shape[1], y_train.shape[1])\n",
        "mymodel.summary()"
      ],
      "execution_count": null,
      "outputs": [
        {
          "output_type": "stream",
          "text": [
            "Model: \"sequential\"\n",
            "_________________________________________________________________\n",
            "Layer (type)                 Output Shape              Param #   \n",
            "=================================================================\n",
            "dense (Dense)                (None, 1024)              15950848  \n",
            "_________________________________________________________________\n",
            "dropout (Dropout)            (None, 1024)              0         \n",
            "_________________________________________________________________\n",
            "dense_1 (Dense)              (None, 512)               524800    \n",
            "_________________________________________________________________\n",
            "dropout_1 (Dropout)          (None, 512)               0         \n",
            "_________________________________________________________________\n",
            "dense_2 (Dense)              (None, 32)                16416     \n",
            "_________________________________________________________________\n",
            "dropout_2 (Dropout)          (None, 32)                0         \n",
            "_________________________________________________________________\n",
            "dense_3 (Dense)              (None, 16)                528       \n",
            "_________________________________________________________________\n",
            "dense_4 (Dense)              (None, 7)                 119       \n",
            "=================================================================\n",
            "Total params: 16,492,711\n",
            "Trainable params: 16,492,711\n",
            "Non-trainable params: 0\n",
            "_________________________________________________________________\n"
          ],
          "name": "stdout"
        }
      ]
    },
    {
      "cell_type": "code",
      "metadata": {
        "id": "vMglNs88hCmN",
        "colab_type": "code",
        "colab": {}
      },
      "source": [
        "def build_model_regularizer(feature_num, label_num):\n",
        "    print(feature_num, label_num)\n",
        "    model = Sequential()\n",
        "    # Input - Layer\n",
        "    model.add(layers.Input(feature_num,))\n",
        "    model.add(layers.Dense(1024, activation = \"relu\",kernel_regularizer=l2(0.0001)))\n",
        "    # Hidden - Layers\n",
        "    model.add(layers.Dropout(0.8, noise_shape=None, seed=None))\n",
        "    # model.add(layers.Dense(512, activation = \"relu\", kernel_regularizer=l2(0.005), bias_regularizer=l2(0.005)))\n",
        "    # model.add(layers.Dropout(0.8, noise_shape=None, seed=None))\n",
        "    model.add(layers.Dense(256, activation = \"relu\",\n",
        "                           kernel_regularizer=l2(0.0025)))\n",
        "    model.add(layers.Dropout(0.6, noise_shape=None, seed=None))\n",
        "    model.add(layers.Dense(32, activation = \"relu\",\n",
        "                           kernel_regularizer=l2(0.0025)))\n",
        "    model.add(layers.Dropout(0.4, noise_shape=None, seed=None))\n",
        "    model.add(layers.Dense(16, activation = \"relu\"))\n",
        "    # Output- Layer\n",
        "    model.add(Dense(label_num, activation='softmax'))\n",
        "    model.compile(optimizer = \"adam\", loss = \"categorical_crossentropy\",metrics = [\"accuracy\"])\n",
        "    return model"
      ],
      "execution_count": null,
      "outputs": []
    },
    {
      "cell_type": "code",
      "metadata": {
        "id": "n4MOzJsvhRhE",
        "colab_type": "code",
        "colab": {
          "base_uri": "https://localhost:8080/",
          "height": 1000
        },
        "outputId": "7c26c7ff-803b-4976-f169-6e2f3f29cb91"
      },
      "source": [
        "mymodel = build_model_regularizer(x_train.shape[1], y_train.shape[1])\n",
        "# mymodel.summary()\n",
        "history = mymodel.fit(x_train, y_train, validation_data=(x_test, y_test), epochs=40, batch_size=32)"
      ],
      "execution_count": null,
      "outputs": [
        {
          "output_type": "stream",
          "text": [
            "16331 7\n",
            "Epoch 1/40\n",
            "657/657 [==============================] - 6s 10ms/step - loss: 1.7254 - accuracy: 0.4425 - val_loss: 1.3122 - val_accuracy: 0.6896\n",
            "Epoch 2/40\n",
            "657/657 [==============================] - 6s 9ms/step - loss: 1.4258 - accuracy: 0.6538 - val_loss: 1.3394 - val_accuracy: 0.7276\n",
            "Epoch 3/40\n",
            "657/657 [==============================] - 6s 9ms/step - loss: 1.3532 - accuracy: 0.7066 - val_loss: 1.4140 - val_accuracy: 0.7253\n",
            "Epoch 4/40\n",
            "657/657 [==============================] - 6s 9ms/step - loss: 1.3123 - accuracy: 0.7422 - val_loss: 1.3614 - val_accuracy: 0.7560\n",
            "Epoch 5/40\n",
            "657/657 [==============================] - 6s 9ms/step - loss: 1.2852 - accuracy: 0.7577 - val_loss: 1.3676 - val_accuracy: 0.7592\n",
            "Epoch 6/40\n",
            "657/657 [==============================] - 6s 9ms/step - loss: 1.2514 - accuracy: 0.7770 - val_loss: 1.4456 - val_accuracy: 0.7390\n",
            "Epoch 7/40\n",
            "657/657 [==============================] - 6s 9ms/step - loss: 1.2383 - accuracy: 0.7876 - val_loss: 1.4005 - val_accuracy: 0.7628\n",
            "Epoch 8/40\n",
            "657/657 [==============================] - 6s 9ms/step - loss: 1.2266 - accuracy: 0.7971 - val_loss: 1.4187 - val_accuracy: 0.7605\n",
            "Epoch 9/40\n",
            "657/657 [==============================] - 6s 9ms/step - loss: 1.2004 - accuracy: 0.8036 - val_loss: 1.4167 - val_accuracy: 0.7564\n",
            "Epoch 10/40\n",
            "657/657 [==============================] - 6s 9ms/step - loss: 1.1915 - accuracy: 0.8107 - val_loss: 1.4579 - val_accuracy: 0.7440\n",
            "Epoch 11/40\n",
            "657/657 [==============================] - 6s 9ms/step - loss: 1.1764 - accuracy: 0.8192 - val_loss: 1.4719 - val_accuracy: 0.7450\n",
            "Epoch 12/40\n",
            "657/657 [==============================] - 6s 10ms/step - loss: 1.1767 - accuracy: 0.8167 - val_loss: 1.5188 - val_accuracy: 0.7294\n",
            "Epoch 13/40\n",
            "657/657 [==============================] - 6s 9ms/step - loss: 1.1623 - accuracy: 0.8234 - val_loss: 1.4160 - val_accuracy: 0.7541\n",
            "Epoch 14/40\n",
            "657/657 [==============================] - 6s 9ms/step - loss: 1.1481 - accuracy: 0.8262 - val_loss: 1.4118 - val_accuracy: 0.7651\n",
            "Epoch 15/40\n",
            "657/657 [==============================] - 6s 9ms/step - loss: 1.1447 - accuracy: 0.8277 - val_loss: 1.4630 - val_accuracy: 0.7518\n",
            "Epoch 16/40\n",
            "657/657 [==============================] - 6s 9ms/step - loss: 1.1422 - accuracy: 0.8327 - val_loss: 1.4519 - val_accuracy: 0.7500\n",
            "Epoch 17/40\n",
            "657/657 [==============================] - 6s 9ms/step - loss: 1.1247 - accuracy: 0.8335 - val_loss: 1.5504 - val_accuracy: 0.7257\n",
            "Epoch 18/40\n",
            "657/657 [==============================] - 6s 10ms/step - loss: 1.1317 - accuracy: 0.8302 - val_loss: 1.5233 - val_accuracy: 0.7386\n",
            "Epoch 19/40\n",
            "657/657 [==============================] - 6s 10ms/step - loss: 1.1183 - accuracy: 0.8343 - val_loss: 1.4884 - val_accuracy: 0.7440\n",
            "Epoch 20/40\n",
            "657/657 [==============================] - 6s 9ms/step - loss: 1.1249 - accuracy: 0.8341 - val_loss: 1.4846 - val_accuracy: 0.7505\n",
            "Epoch 21/40\n",
            "657/657 [==============================] - 6s 9ms/step - loss: 1.1189 - accuracy: 0.8333 - val_loss: 1.4818 - val_accuracy: 0.7418\n",
            "Epoch 22/40\n",
            "657/657 [==============================] - 6s 9ms/step - loss: 1.1221 - accuracy: 0.8305 - val_loss: 1.4849 - val_accuracy: 0.7440\n",
            "Epoch 23/40\n",
            "657/657 [==============================] - 6s 9ms/step - loss: 1.1194 - accuracy: 0.8371 - val_loss: 1.4228 - val_accuracy: 0.7651\n",
            "Epoch 24/40\n",
            "657/657 [==============================] - 6s 10ms/step - loss: 1.1201 - accuracy: 0.8347 - val_loss: 1.5285 - val_accuracy: 0.7358\n",
            "Epoch 25/40\n",
            "657/657 [==============================] - 6s 9ms/step - loss: 1.1061 - accuracy: 0.8394 - val_loss: 1.4109 - val_accuracy: 0.7610\n",
            "Epoch 26/40\n",
            "657/657 [==============================] - 6s 9ms/step - loss: 1.1123 - accuracy: 0.8365 - val_loss: 1.4348 - val_accuracy: 0.7514\n",
            "Epoch 27/40\n",
            "657/657 [==============================] - 6s 10ms/step - loss: 1.1004 - accuracy: 0.8386 - val_loss: 1.5299 - val_accuracy: 0.7193\n",
            "Epoch 28/40\n",
            "657/657 [==============================] - 6s 10ms/step - loss: 1.1001 - accuracy: 0.8384 - val_loss: 1.4456 - val_accuracy: 0.7555\n",
            "Epoch 29/40\n",
            "657/657 [==============================] - 6s 9ms/step - loss: 1.1035 - accuracy: 0.8365 - val_loss: 1.4628 - val_accuracy: 0.7431\n",
            "Epoch 30/40\n",
            "657/657 [==============================] - 6s 9ms/step - loss: 1.0976 - accuracy: 0.8390 - val_loss: 1.5096 - val_accuracy: 0.7317\n",
            "Epoch 31/40\n",
            "657/657 [==============================] - 6s 9ms/step - loss: 1.1009 - accuracy: 0.8381 - val_loss: 1.5058 - val_accuracy: 0.7363\n",
            "Epoch 32/40\n",
            "657/657 [==============================] - 6s 9ms/step - loss: 1.1091 - accuracy: 0.8357 - val_loss: 1.4691 - val_accuracy: 0.7422\n",
            "Epoch 33/40\n",
            "657/657 [==============================] - 6s 9ms/step - loss: 1.0992 - accuracy: 0.8377 - val_loss: 1.4772 - val_accuracy: 0.7427\n",
            "Epoch 34/40\n",
            "657/657 [==============================] - 6s 9ms/step - loss: 1.1019 - accuracy: 0.8363 - val_loss: 1.4927 - val_accuracy: 0.7340\n",
            "Epoch 35/40\n",
            "657/657 [==============================] - 6s 9ms/step - loss: 1.0933 - accuracy: 0.8381 - val_loss: 1.5088 - val_accuracy: 0.7262\n",
            "Epoch 36/40\n",
            "657/657 [==============================] - 6s 9ms/step - loss: 1.0910 - accuracy: 0.8394 - val_loss: 1.4728 - val_accuracy: 0.7390\n",
            "Epoch 37/40\n",
            "657/657 [==============================] - 6s 9ms/step - loss: 1.0872 - accuracy: 0.8384 - val_loss: 1.4796 - val_accuracy: 0.7367\n",
            "Epoch 38/40\n",
            "657/657 [==============================] - 6s 9ms/step - loss: 1.0839 - accuracy: 0.8422 - val_loss: 1.4642 - val_accuracy: 0.7408\n",
            "Epoch 39/40\n",
            "657/657 [==============================] - 6s 9ms/step - loss: 1.0887 - accuracy: 0.8379 - val_loss: 1.4541 - val_accuracy: 0.7422\n",
            "Epoch 40/40\n",
            "657/657 [==============================] - 6s 9ms/step - loss: 1.0813 - accuracy: 0.8406 - val_loss: 1.5049 - val_accuracy: 0.7358\n"
          ],
          "name": "stdout"
        }
      ]
    },
    {
      "cell_type": "code",
      "metadata": {
        "id": "CHu4Q2rg4695",
        "colab_type": "code",
        "colab": {
          "base_uri": "https://localhost:8080/",
          "height": 54
        },
        "outputId": "1320a201-a215-43f6-8d0b-76fc8e304ca5"
      },
      "source": [
        "print(history.history)"
      ],
      "execution_count": null,
      "outputs": [
        {
          "output_type": "stream",
          "text": [
            "{'loss': [1.7254222631454468, 1.4257522821426392, 1.3531931638717651, 1.3123018741607666, 1.285187005996704, 1.2514296770095825, 1.2383445501327515, 1.2265673875808716, 1.200355887413025, 1.191537618637085, 1.1764121055603027, 1.1766852140426636, 1.162326693534851, 1.1480756998062134, 1.144690752029419, 1.1421871185302734, 1.1246676445007324, 1.1316888332366943, 1.1183007955551147, 1.124900460243225, 1.1189393997192383, 1.1220908164978027, 1.119411826133728, 1.1201292276382446, 1.106142520904541, 1.1122881174087524, 1.1004084348678589, 1.100053071975708, 1.1035252809524536, 1.0976183414459229, 1.1008559465408325, 1.1091275215148926, 1.0991895198822021, 1.1018792390823364, 1.093274474143982, 1.0909608602523804, 1.0872482061386108, 1.0839135646820068, 1.0886529684066772, 1.0812745094299316], 'accuracy': [0.44247618317604065, 0.6538095474243164, 0.7065714001655579, 0.7422381043434143, 0.7576666474342346, 0.7770476341247559, 0.7876190543174744, 0.7971428632736206, 0.8036190271377563, 0.8106666803359985, 0.8192380666732788, 0.8166666626930237, 0.8234285712242126, 0.8261904716491699, 0.8276666402816772, 0.8326666951179504, 0.833476185798645, 0.8302381038665771, 0.8343333601951599, 0.8341428637504578, 0.8332856893539429, 0.8304761648178101, 0.8370952606201172, 0.8346666693687439, 0.8394285440444946, 0.8365238308906555, 0.8385714292526245, 0.8383809328079224, 0.8365238308906555, 0.838952362537384, 0.8380952477455139, 0.8357142806053162, 0.8376666903495789, 0.8362857103347778, 0.8381428718566895, 0.8393809795379639, 0.8383809328079224, 0.8421905040740967, 0.8379047513008118, 0.8406190276145935], 'val_loss': [1.3122375011444092, 1.3393974304199219, 1.4139982461929321, 1.3614330291748047, 1.3675994873046875, 1.4455606937408447, 1.4004515409469604, 1.4186615943908691, 1.4167428016662598, 1.457945466041565, 1.4719083309173584, 1.5187649726867676, 1.4160338640213013, 1.4118047952651978, 1.4630345106124878, 1.4518978595733643, 1.5503662824630737, 1.5232610702514648, 1.4883837699890137, 1.4846229553222656, 1.4818121194839478, 1.4848889112472534, 1.4228335618972778, 1.5285323858261108, 1.4109421968460083, 1.4348065853118896, 1.5298579931259155, 1.4455809593200684, 1.4628006219863892, 1.5096498727798462, 1.5058462619781494, 1.4690860509872437, 1.47719407081604, 1.4926782846450806, 1.5088013410568237, 1.4728394746780396, 1.479590654373169, 1.4641737937927246, 1.4541032314300537, 1.5048916339874268], 'val_accuracy': [0.6895604133605957, 0.7275640964508057, 0.7252747416496277, 0.7559523582458496, 0.7591575384140015, 0.7390109896659851, 0.7628205418586731, 0.7605311274528503, 0.7564102411270142, 0.7440476417541504, 0.7449633479118347, 0.7293956279754639, 0.7541208863258362, 0.7651098966598511, 0.7518315315246582, 0.75, 0.7257326245307922, 0.7385531067848206, 0.7440476417541504, 0.7504578828811646, 0.7417582273483276, 0.7440476417541504, 0.7651098966598511, 0.735805869102478, 0.7609890103340149, 0.7513736486434937, 0.7193223237991333, 0.7554945349693298, 0.7431318759918213, 0.7316849827766418, 0.7362637519836426, 0.7422161102294922, 0.7426739931106567, 0.7339743375778198, 0.726190447807312, 0.7390109896659851, 0.7367216348648071, 0.7408424615859985, 0.7422161102294922, 0.735805869102478]}\n"
          ],
          "name": "stdout"
        }
      ]
    },
    {
      "cell_type": "code",
      "metadata": {
        "id": "magrKUpT4_75",
        "colab_type": "code",
        "colab": {}
      },
      "source": [
        "mymodel.save('model.h5')"
      ],
      "execution_count": null,
      "outputs": []
    },
    {
      "cell_type": "code",
      "metadata": {
        "id": "a5BA84BL5P0y",
        "colab_type": "code",
        "colab": {
          "base_uri": "https://localhost:8080/",
          "height": 51
        },
        "outputId": "dac2c291-b070-42d8-9dcc-665f9f04e87e"
      },
      "source": [
        "def predict(q):\n",
        "  x = word_vectorizer.transform([q])\n",
        "  input = x.toarray()\n",
        "  output = mymodel.predict(input)\n",
        "  print(output, np.argmax(output))\n",
        "\n",
        "predict('xét_nghiệm beta dạ bsĩ mới chuyển phôi bviện mỹ_đức ngày phôi trữ ngày loại hôm_nay đi xét_nghiệm beta dc u thai fai bsĩ mà thấy nhìu bà mẹ dc trên u bình_thường hay bình thương cam_on')"
      ],
      "execution_count": null,
      "outputs": [
        {
          "output_type": "stream",
          "text": [
            "[[0.04174808 0.00191995 0.04804575 0.00693974 0.13331932 0.72503\n",
            "  0.04299719]] 5\n"
          ],
          "name": "stdout"
        }
      ]
    }
  ]
}